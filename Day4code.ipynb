{
  "nbformat": 4,
  "nbformat_minor": 0,
  "metadata": {
    "colab": {
      "name": "Day4code.ipynb",
      "provenance": []
    },
    "kernelspec": {
      "name": "python3",
      "display_name": "Python 3"
    }
  },
  "cells": [
    {
      "cell_type": "code",
      "metadata": {
        "colab": {
          "base_uri": "https://localhost:8080/"
        },
        "id": "k2cCluxnPiYh",
        "outputId": "660e2808-8ff4-474a-899e-bb475d509a23"
      },
      "source": [
        "class Person:\r\n",
        "    pass\r\n",
        "\r\n",
        "john_doe = Person()\r\n",
        "john_doe.name = \"Alec\"\r\n",
        "john_doe.surname = \"Baldwin\"\r\n",
        "john_doe.year_of_birth = 1958\r\n",
        "\r\n",
        "\r\n",
        "print(john_doe)\r\n",
        "print(\"%s %s was born in %d.\" %\r\n",
        "      (john_doe.name, john_doe.surname, john_doe.year_of_birth))"
      ],
      "execution_count": 1,
      "outputs": [
        {
          "output_type": "stream",
          "text": [
            "<__main__.Person object at 0x7f1d35d0deb8>\n",
            "Alec Baldwin was born in 1958.\n"
          ],
          "name": "stdout"
        }
      ]
    },
    {
      "cell_type": "code",
      "metadata": {
        "id": "bI8gzWBuPpq1"
      },
      "source": [
        "class Person:\r\n",
        "    def __init__(self, name, surname, year_of_birth):\r\n",
        "        self.name = name\r\n",
        "        self.surname = surname\r\n",
        "        self.year_of_birth = year_of_birth"
      ],
      "execution_count": 2,
      "outputs": []
    },
    {
      "cell_type": "code",
      "metadata": {
        "colab": {
          "base_uri": "https://localhost:8080/"
        },
        "id": "8TZOy0jDPvog",
        "outputId": "22e52bc4-beb4-416d-a6d0-2da738a2bb4e"
      },
      "source": [
        "alec = Person(\"Alec\", \"Baldwin\", 1958)\r\n",
        "print(alec)\r\n",
        "print(\"%s %s was born in %d\"% (alec.name,alec.surname,alec.year_of_birth))\r\n"
      ],
      "execution_count": 3,
      "outputs": [
        {
          "output_type": "stream",
          "text": [
            "<__main__.Person object at 0x7f1d35d374e0>\n",
            "Alec Baldwin was born in 1958\n"
          ],
          "name": "stdout"
        }
      ]
    },
    {
      "cell_type": "code",
      "metadata": {
        "colab": {
          "base_uri": "https://localhost:8080/"
        },
        "id": "38HlNeN5Py5F",
        "outputId": "3f62129b-8e6a-44a5-ec5a-a2ff33eca9a6"
      },
      "source": [
        "class Person:\r\n",
        "    def __init__(self, name, surname, year_of_birth):\r\n",
        "        self.name = name\r\n",
        "        self.surname = surname\r\n",
        "        self.year_of_birth = year_of_birth\r\n",
        "    \r\n",
        "    def age(self, current_year):\r\n",
        "        return current_year - self.year_of_birth\r\n",
        "    \r\n",
        "    def __str__(self):\r\n",
        "        return \"%s %s was born in %d .\" % (self.name, self.surname, self.year_of_birth)\r\n",
        "    \r\n",
        "alec = Person(\"Alec\", \"Baldwin\", 1958)\r\n",
        "print(alec)\r\n",
        "print(alec.age(2019))\r\n"
      ],
      "execution_count": 4,
      "outputs": [
        {
          "output_type": "stream",
          "text": [
            "Alec Baldwin was born in 1958 .\n",
            "61\n"
          ],
          "name": "stdout"
        }
      ]
    },
    {
      "cell_type": "code",
      "metadata": {
        "colab": {
          "base_uri": "https://localhost:8080/"
        },
        "id": "gX6BwbTHP0Np",
        "outputId": "cb6f2740-1f24-4472-d6fe-cee83f03141d"
      },
      "source": [
        "class Student(Person):\r\n",
        "    def __init__(self, student_id, *args, **kwargs):\r\n",
        "        super(Student, self).__init__(*args, **kwargs)\r\n",
        "        self._student_id = student_id\r\n",
        "        \r\n",
        "charlie = Student(1, 'Charlie', 'Brown', 2006)\r\n",
        "print(charlie)\r\n",
        "print(type(charlie))\r\n",
        "print(isinstance(charlie, Person))\r\n",
        "print(isinstance(charlie, object))\r\n"
      ],
      "execution_count": 5,
      "outputs": [
        {
          "output_type": "stream",
          "text": [
            "Charlie Brown was born in 2006 .\n",
            "<class '__main__.Student'>\n",
            "True\n",
            "True\n"
          ],
          "name": "stdout"
        }
      ]
    },
    {
      "cell_type": "code",
      "metadata": {
        "colab": {
          "base_uri": "https://localhost:8080/"
        },
        "id": "nf5NFqTEP_dn",
        "outputId": "d1f54549-8441-47d8-d029-fa1cec78e1d6"
      },
      "source": [
        "class Student(Person):\r\n",
        "    def __init__(self, student_id, *args, **kwargs):\r\n",
        "        super(Student, self).__init__(*args, **kwargs)\r\n",
        "        self._student_id = student_id\r\n",
        "        \r\n",
        "charlie = Student(1, 'Charlie', 'Brown', 2006)\r\n",
        "print(charlie)\r\n",
        "print(type(charlie))\r\n",
        "print(isinstance(charlie, Person))\r\n",
        "print(isinstance(charlie, object))\r\n",
        "\r\n",
        "\r\n"
      ],
      "execution_count": 6,
      "outputs": [
        {
          "output_type": "stream",
          "text": [
            "Charlie Brown was born in 2006 .\n",
            "<class '__main__.Student'>\n",
            "True\n",
            "True\n"
          ],
          "name": "stdout"
        }
      ]
    },
    {
      "cell_type": "code",
      "metadata": {
        "colab": {
          "base_uri": "https://localhost:8080/"
        },
        "id": "WoIVxz7yQOm7",
        "outputId": "0e730628-3a32-4de9-9dc1-36ce4de578b2"
      },
      "source": [
        "def summer(a, b):\r\n",
        "    return a + b\r\n",
        "\r\n",
        "print(summer(1, 1))\r\n",
        "print(summer([\"a\", \"b\", \"c\"], [\"d\", \"e\"]))\r\n",
        "print(summer(\"abra\", \"cadabra\"))\r\n"
      ],
      "execution_count": 7,
      "outputs": [
        {
          "output_type": "stream",
          "text": [
            "2\n",
            "['a', 'b', 'c', 'd', 'e']\n",
            "abracadabra\n"
          ],
          "name": "stdout"
        }
      ]
    },
    {
      "cell_type": "code",
      "metadata": {
        "colab": {
          "base_uri": "https://localhost:8080/"
        },
        "id": "f_bpQJ5fQYWu",
        "outputId": "8d1ea6c0-1af9-48aa-8b9a-f2eb5b94eaf6"
      },
      "source": [
        "%%writefile superman.txt\r\n",
        "Hello, this is a quick superman test file"
      ],
      "execution_count": 8,
      "outputs": [
        {
          "output_type": "stream",
          "text": [
            "Writing superman.txt\n"
          ],
          "name": "stdout"
        }
      ]
    },
    {
      "cell_type": "code",
      "metadata": {
        "id": "Y0xAK8DrQdFd"
      },
      "source": [
        "my_file = open('superman.txt')"
      ],
      "execution_count": 9,
      "outputs": []
    },
    {
      "cell_type": "code",
      "metadata": {
        "colab": {
          "base_uri": "https://localhost:8080/",
          "height": 35
        },
        "id": "J07sqOhBQhCh",
        "outputId": "2585ccd5-b1ef-4978-a713-df8195e2c79a"
      },
      "source": [
        "\r\n",
        "my_file.read()"
      ],
      "execution_count": 10,
      "outputs": [
        {
          "output_type": "execute_result",
          "data": {
            "application/vnd.google.colaboratory.intrinsic+json": {
              "type": "string"
            },
            "text/plain": [
              "'Hello, this is a quick superman test file'"
            ]
          },
          "metadata": {
            "tags": []
          },
          "execution_count": 10
        }
      ]
    },
    {
      "cell_type": "code",
      "metadata": {
        "colab": {
          "base_uri": "https://localhost:8080/",
          "height": 35
        },
        "id": "tJgRA19LQhed",
        "outputId": "cf4cca74-6317-4ec2-d884-0b4cd2a572ab"
      },
      "source": [
        "my_file.read()"
      ],
      "execution_count": 11,
      "outputs": [
        {
          "output_type": "execute_result",
          "data": {
            "application/vnd.google.colaboratory.intrinsic+json": {
              "type": "string"
            },
            "text/plain": [
              "''"
            ]
          },
          "metadata": {
            "tags": []
          },
          "execution_count": 11
        }
      ]
    },
    {
      "cell_type": "code",
      "metadata": {
        "colab": {
          "base_uri": "https://localhost:8080/"
        },
        "id": "K9nBHjGJQh04",
        "outputId": "1ae0672b-357b-4ea3-ce22-b467775c3875"
      },
      "source": [
        "my_file.seek(0)"
      ],
      "execution_count": 12,
      "outputs": [
        {
          "output_type": "execute_result",
          "data": {
            "text/plain": [
              "0"
            ]
          },
          "metadata": {
            "tags": []
          },
          "execution_count": 12
        }
      ]
    },
    {
      "cell_type": "code",
      "metadata": {
        "colab": {
          "base_uri": "https://localhost:8080/",
          "height": 35
        },
        "id": "g2kCX5FHQrn6",
        "outputId": "1c34e7ba-08f1-4d1b-c9b1-644caa3a75e0"
      },
      "source": [
        "\r\n",
        "my_file.read()"
      ],
      "execution_count": 13,
      "outputs": [
        {
          "output_type": "execute_result",
          "data": {
            "application/vnd.google.colaboratory.intrinsic+json": {
              "type": "string"
            },
            "text/plain": [
              "'Hello, this is a quick superman test file'"
            ]
          },
          "metadata": {
            "tags": []
          },
          "execution_count": 13
        }
      ]
    },
    {
      "cell_type": "code",
      "metadata": {
        "colab": {
          "base_uri": "https://localhost:8080/"
        },
        "id": "BKVebuLaQsJO",
        "outputId": "a8a06b04-d71b-403a-f402-bfb2d4209531"
      },
      "source": [
        "my_file.seek(0)"
      ],
      "execution_count": 14,
      "outputs": [
        {
          "output_type": "execute_result",
          "data": {
            "text/plain": [
              "0"
            ]
          },
          "metadata": {
            "tags": []
          },
          "execution_count": 14
        }
      ]
    },
    {
      "cell_type": "code",
      "metadata": {
        "colab": {
          "base_uri": "https://localhost:8080/"
        },
        "id": "uGTKpwXeP304",
        "outputId": "8b17b0c3-63ce-447d-bdf8-75927390ff9b"
      },
      "source": [
        "\r\n",
        "my_file.seek(0)"
      ],
      "execution_count": 15,
      "outputs": [
        {
          "output_type": "execute_result",
          "data": {
            "text/plain": [
              "0"
            ]
          },
          "metadata": {
            "tags": []
          },
          "execution_count": 15
        }
      ]
    },
    {
      "cell_type": "code",
      "metadata": {
        "id": "wxSIsp03QuzC"
      },
      "source": [
        "my_file = open('superman.txt','w+')"
      ],
      "execution_count": 16,
      "outputs": []
    },
    {
      "cell_type": "code",
      "metadata": {
        "colab": {
          "base_uri": "https://localhost:8080/"
        },
        "id": "jIM86FDZQ9xk",
        "outputId": "14999029-3f5e-4bbb-a723-978f0547d371"
      },
      "source": [
        "my_file.write('This is a new line')"
      ],
      "execution_count": 17,
      "outputs": [
        {
          "output_type": "execute_result",
          "data": {
            "text/plain": [
              "18"
            ]
          },
          "metadata": {
            "tags": []
          },
          "execution_count": 17
        }
      ]
    },
    {
      "cell_type": "code",
      "metadata": {
        "colab": {
          "base_uri": "https://localhost:8080/"
        },
        "id": "rUvXlffjQ-Ox",
        "outputId": "5f76fce4-8440-441c-e570-698dab7f39fb"
      },
      "source": [
        "my_file.seek(0)"
      ],
      "execution_count": 18,
      "outputs": [
        {
          "output_type": "execute_result",
          "data": {
            "text/plain": [
              "0"
            ]
          },
          "metadata": {
            "tags": []
          },
          "execution_count": 18
        }
      ]
    },
    {
      "cell_type": "code",
      "metadata": {
        "colab": {
          "base_uri": "https://localhost:8080/",
          "height": 35
        },
        "id": "fKuQcufZQ-wF",
        "outputId": "619b28df-84b5-4122-8a16-9d8c9283959b"
      },
      "source": [
        "my_file.read()"
      ],
      "execution_count": 19,
      "outputs": [
        {
          "output_type": "execute_result",
          "data": {
            "application/vnd.google.colaboratory.intrinsic+json": {
              "type": "string"
            },
            "text/plain": [
              "'This is a new line'"
            ]
          },
          "metadata": {
            "tags": []
          },
          "execution_count": 19
        }
      ]
    },
    {
      "cell_type": "code",
      "metadata": {
        "colab": {
          "base_uri": "https://localhost:8080/"
        },
        "id": "8dBD7WUXQ_CQ",
        "outputId": "08e8440d-bf04-4c8b-ddd4-5e46edcb811d"
      },
      "source": [
        "%%writefile test.txt\r\n",
        "First Line\r\n",
        "Second Line"
      ],
      "execution_count": 20,
      "outputs": [
        {
          "output_type": "stream",
          "text": [
            "Writing test.txt\n"
          ],
          "name": "stdout"
        }
      ]
    },
    {
      "cell_type": "code",
      "metadata": {
        "colab": {
          "base_uri": "https://localhost:8080/"
        },
        "id": "QENbc_GURR-_",
        "outputId": "52a5606f-13f7-42eb-ccb2-c81a00282119"
      },
      "source": [
        "\r\n",
        "for asdf in open('test.txt'):\r\n",
        "    print(asdf)"
      ],
      "execution_count": 23,
      "outputs": [
        {
          "output_type": "stream",
          "text": [
            "First Line\n",
            "\n",
            "Second Line\n"
          ],
          "name": "stdout"
        }
      ]
    },
    {
      "cell_type": "code",
      "metadata": {
        "id": "pnJPwTn0RZXR"
      },
      "source": [
        "from io import StringIO"
      ],
      "execution_count": 24,
      "outputs": []
    },
    {
      "cell_type": "code",
      "metadata": {
        "id": "JPOpkBO7RdqZ"
      },
      "source": [
        "message = 'This is just a normal string.'"
      ],
      "execution_count": 25,
      "outputs": []
    },
    {
      "cell_type": "code",
      "metadata": {
        "id": "Iu-EmCyKRd-n"
      },
      "source": [
        "f = StringIO(message)"
      ],
      "execution_count": 26,
      "outputs": []
    },
    {
      "cell_type": "code",
      "metadata": {
        "colab": {
          "base_uri": "https://localhost:8080/",
          "height": 35
        },
        "id": "_X76UAsmReQ7",
        "outputId": "1a775b9b-1f44-4407-cf32-77399b514ed8"
      },
      "source": [
        "f.read()"
      ],
      "execution_count": 27,
      "outputs": [
        {
          "output_type": "execute_result",
          "data": {
            "application/vnd.google.colaboratory.intrinsic+json": {
              "type": "string"
            },
            "text/plain": [
              "'This is just a normal string.'"
            ]
          },
          "metadata": {
            "tags": []
          },
          "execution_count": 27
        }
      ]
    },
    {
      "cell_type": "code",
      "metadata": {
        "colab": {
          "base_uri": "https://localhost:8080/"
        },
        "id": "7Dyb4wbCQ_Xk",
        "outputId": "123b575a-4117-49a9-a1b3-c808fc156b65"
      },
      "source": [
        "for line in open('test.txt'):\r\n",
        "    print(line)"
      ],
      "execution_count": 21,
      "outputs": [
        {
          "output_type": "stream",
          "text": [
            "First Line\n",
            "\n",
            "Second Line\n"
          ],
          "name": "stdout"
        }
      ]
    },
    {
      "cell_type": "code",
      "metadata": {
        "colab": {
          "base_uri": "https://localhost:8080/"
        },
        "id": "m14rpiM8RrHL",
        "outputId": "26e3860c-0591-47cc-988d-3eadab9a6268"
      },
      "source": [
        "f.write(' Second line written to file like object')"
      ],
      "execution_count": 28,
      "outputs": [
        {
          "output_type": "execute_result",
          "data": {
            "text/plain": [
              "40"
            ]
          },
          "metadata": {
            "tags": []
          },
          "execution_count": 28
        }
      ]
    },
    {
      "cell_type": "code",
      "metadata": {
        "colab": {
          "base_uri": "https://localhost:8080/"
        },
        "id": "rF90ifB4Rre4",
        "outputId": "88b70a1b-5609-4e98-fb82-8e9a30852740"
      },
      "source": [
        "\r\n",
        "f.seek(0)"
      ],
      "execution_count": 29,
      "outputs": [
        {
          "output_type": "execute_result",
          "data": {
            "text/plain": [
              "0"
            ]
          },
          "metadata": {
            "tags": []
          },
          "execution_count": 29
        }
      ]
    },
    {
      "cell_type": "code",
      "metadata": {
        "colab": {
          "base_uri": "https://localhost:8080/"
        },
        "id": "ndeQ1IJ2Rr0M",
        "outputId": "497323ee-34e2-4664-bef3-2077ee910e7d"
      },
      "source": [
        "f.seek(0)"
      ],
      "execution_count": 30,
      "outputs": [
        {
          "output_type": "execute_result",
          "data": {
            "text/plain": [
              "0"
            ]
          },
          "metadata": {
            "tags": []
          },
          "execution_count": 30
        }
      ]
    }
  ]
}