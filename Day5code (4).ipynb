{
  "nbformat": 4,
  "nbformat_minor": 0,
  "metadata": {
    "colab": {
      "name": "Day5code.ipynb",
      "provenance": []
    },
    "kernelspec": {
      "name": "python3",
      "display_name": "Python 3"
    }
  },
  "cells": [
    {
      "cell_type": "code",
      "metadata": {
        "id": "RlrKv85FTZc8"
      },
      "source": [
        "import math"
      ],
      "execution_count": 1,
      "outputs": []
    },
    {
      "cell_type": "code",
      "metadata": {
        "colab": {
          "base_uri": "https://localhost:8080/"
        },
        "id": "Q0DkzqOxUGVc",
        "outputId": "930c281d-bb45-42bf-ffa8-6b52df167024"
      },
      "source": [
        "math.ceil(2.4)"
      ],
      "execution_count": 2,
      "outputs": [
        {
          "output_type": "execute_result",
          "data": {
            "text/plain": [
              "3"
            ]
          },
          "metadata": {
            "tags": []
          },
          "execution_count": 2
        }
      ]
    },
    {
      "cell_type": "code",
      "metadata": {
        "colab": {
          "base_uri": "https://localhost:8080/"
        },
        "id": "K0ZZutFlUGyL",
        "outputId": "5daa417f-154d-41bc-f6a5-c3e3d9f51e93"
      },
      "source": [
        "print(dir(math))"
      ],
      "execution_count": 3,
      "outputs": [
        {
          "output_type": "stream",
          "text": [
            "['__doc__', '__loader__', '__name__', '__package__', '__spec__', 'acos', 'acosh', 'asin', 'asinh', 'atan', 'atan2', 'atanh', 'ceil', 'copysign', 'cos', 'cosh', 'degrees', 'e', 'erf', 'erfc', 'exp', 'expm1', 'fabs', 'factorial', 'floor', 'fmod', 'frexp', 'fsum', 'gamma', 'gcd', 'hypot', 'inf', 'isclose', 'isfinite', 'isinf', 'isnan', 'ldexp', 'lgamma', 'log', 'log10', 'log1p', 'log2', 'modf', 'nan', 'pi', 'pow', 'radians', 'sin', 'sinh', 'sqrt', 'tan', 'tanh', 'tau', 'trunc']\n"
          ],
          "name": "stdout"
        }
      ]
    },
    {
      "cell_type": "code",
      "metadata": {
        "colab": {
          "base_uri": "https://localhost:8080/"
        },
        "id": "FK7HY4CSUSuq",
        "outputId": "6109006c-bc43-49c1-ab3d-30f46e80c599"
      },
      "source": [
        "help(math.ceil)"
      ],
      "execution_count": 4,
      "outputs": [
        {
          "output_type": "stream",
          "text": [
            "Help on built-in function ceil in module math:\n",
            "\n",
            "ceil(...)\n",
            "    ceil(x)\n",
            "    \n",
            "    Return the ceiling of x as an Integral.\n",
            "    This is the smallest integer >= x.\n",
            "\n"
          ],
          "name": "stdout"
        }
      ]
    },
    {
      "cell_type": "code",
      "metadata": {
        "colab": {
          "base_uri": "https://localhost:8080/",
          "height": 299
        },
        "id": "s9OGAmQwUTFv",
        "outputId": "f16f2617-15a1-4299-c6d6-74fe9a192717"
      },
      "source": [
        "import foo.bar"
      ],
      "execution_count": 5,
      "outputs": [
        {
          "output_type": "error",
          "ename": "ModuleNotFoundError",
          "evalue": "ignored",
          "traceback": [
            "\u001b[0;31m---------------------------------------------------------------------------\u001b[0m",
            "\u001b[0;31mModuleNotFoundError\u001b[0m                       Traceback (most recent call last)",
            "\u001b[0;32m<ipython-input-5-55da487b42c6>\u001b[0m in \u001b[0;36m<module>\u001b[0;34m()\u001b[0m\n\u001b[0;32m----> 1\u001b[0;31m \u001b[0;32mimport\u001b[0m \u001b[0mfoo\u001b[0m\u001b[0;34m.\u001b[0m\u001b[0mbar\u001b[0m\u001b[0;34m\u001b[0m\u001b[0;34m\u001b[0m\u001b[0m\n\u001b[0m",
            "\u001b[0;31mModuleNotFoundError\u001b[0m: No module named 'foo'",
            "",
            "\u001b[0;31m---------------------------------------------------------------------------\u001b[0;32m\nNOTE: If your import is failing due to a missing package, you can\nmanually install dependencies using either !pip or !apt.\n\nTo view examples of installing some common dependencies, click the\n\"Open Examples\" button below.\n\u001b[0;31m---------------------------------------------------------------------------\u001b[0m\n"
          ]
        }
      ]
    },
    {
      "cell_type": "code",
      "metadata": {
        "colab": {
          "base_uri": "https://localhost:8080/",
          "height": 299
        },
        "id": "yCzYoAYKUdOO",
        "outputId": "f350607a-7729-4329-f2c5-7d6ba9d1b8f2"
      },
      "source": [
        "from foo import bar"
      ],
      "execution_count": 8,
      "outputs": [
        {
          "output_type": "error",
          "ename": "ModuleNotFoundError",
          "evalue": "ignored",
          "traceback": [
            "\u001b[0;31m---------------------------------------------------------------------------\u001b[0m",
            "\u001b[0;31mModuleNotFoundError\u001b[0m                       Traceback (most recent call last)",
            "\u001b[0;32m<ipython-input-8-17c8219278ab>\u001b[0m in \u001b[0;36m<module>\u001b[0;34m()\u001b[0m\n\u001b[0;32m----> 1\u001b[0;31m \u001b[0;32mfrom\u001b[0m \u001b[0mfoo\u001b[0m \u001b[0;32mimport\u001b[0m \u001b[0mbar\u001b[0m\u001b[0;34m\u001b[0m\u001b[0;34m\u001b[0m\u001b[0m\n\u001b[0m",
            "\u001b[0;31mModuleNotFoundError\u001b[0m: No module named 'foo'",
            "",
            "\u001b[0;31m---------------------------------------------------------------------------\u001b[0;32m\nNOTE: If your import is failing due to a missing package, you can\nmanually install dependencies using either !pip or !apt.\n\nTo view examples of installing some common dependencies, click the\n\"Open Examples\" button below.\n\u001b[0;31m---------------------------------------------------------------------------\u001b[0m\n"
          ]
        }
      ]
    },
    {
      "cell_type": "code",
      "metadata": {
        "colab": {
          "base_uri": "https://localhost:8080/",
          "height": 129
        },
        "id": "YHZifr5CUdrJ",
        "outputId": "64cf2057-3c98-4b75-e33f-551fc6543be9"
      },
      "source": [
        "__init__.py:\r\n",
        "\r\n",
        "__all__ = [\"bar\"]"
      ],
      "execution_count": 9,
      "outputs": [
        {
          "output_type": "error",
          "ename": "SyntaxError",
          "evalue": "ignored",
          "traceback": [
            "\u001b[0;36m  File \u001b[0;32m\"<ipython-input-9-45d8bf1c62c0>\"\u001b[0;36m, line \u001b[0;32m1\u001b[0m\n\u001b[0;31m    __init__.py:\u001b[0m\n\u001b[0m                ^\u001b[0m\n\u001b[0;31mSyntaxError\u001b[0m\u001b[0;31m:\u001b[0m invalid syntax\n"
          ]
        }
      ]
    },
    {
      "cell_type": "code",
      "metadata": {
        "colab": {
          "base_uri": "https://localhost:8080/",
          "height": 129
        },
        "id": "36UtKAB-UeAo",
        "outputId": "e1d0b7d0-8082-41d1-b2f5-a1b9769183cb"
      },
      "source": [
        "print('Hello)"
      ],
      "execution_count": 10,
      "outputs": [
        {
          "output_type": "error",
          "ename": "SyntaxError",
          "evalue": "ignored",
          "traceback": [
            "\u001b[0;36m  File \u001b[0;32m\"<ipython-input-10-db8c9988558c>\"\u001b[0;36m, line \u001b[0;32m1\u001b[0m\n\u001b[0;31m    print('Hello)\u001b[0m\n\u001b[0m                 ^\u001b[0m\n\u001b[0;31mSyntaxError\u001b[0m\u001b[0;31m:\u001b[0m EOL while scanning string literal\n"
          ]
        }
      ]
    },
    {
      "cell_type": "code",
      "metadata": {
        "colab": {
          "base_uri": "https://localhost:8080/"
        },
        "id": "N0EVQfACUeXk",
        "outputId": "e6c88789-0396-4974-cc64-48ad49c4f5c9"
      },
      "source": [
        "try:\r\n",
        "    f = open('testfile','w')\r\n",
        "    f.write('Test write this')\r\n",
        "except IOError:\r\n",
        "    # This will only check for an IOError exception and then execute this print statement\r\n",
        "   print(\"Error: Could not find file or read data\")\r\n",
        "else:\r\n",
        "   print(\"Content written successfully\")\r\n",
        "   f.close()"
      ],
      "execution_count": 11,
      "outputs": [
        {
          "output_type": "stream",
          "text": [
            "Content written successfully\n"
          ],
          "name": "stdout"
        }
      ]
    },
    {
      "cell_type": "code",
      "metadata": {
        "colab": {
          "base_uri": "https://localhost:8080/"
        },
        "id": "iCsgSnGfUTZB",
        "outputId": "7a5a3b93-0564-4fa1-c77e-fb118ab65057"
      },
      "source": [
        "try:\r\n",
        "    f = open('testfile','r')\r\n",
        "    f.write('Test write this')\r\n",
        "except IOError:\r\n",
        "    # This will only check for an IOError exception and then execute this print statement\r\n",
        "   print(\"Error: Could not find file or read data\")\r\n",
        "else:\r\n",
        "   print(\"Content written successfully\")\r\n",
        "   f.close()"
      ],
      "execution_count": 12,
      "outputs": [
        {
          "output_type": "stream",
          "text": [
            "Error: Could not find file or read data\n"
          ],
          "name": "stdout"
        }
      ]
    },
    {
      "cell_type": "code",
      "metadata": {
        "colab": {
          "base_uri": "https://localhost:8080/"
        },
        "id": "fMU9cXo7VC6_",
        "outputId": "26d9c9f3-fbe4-42fe-8884-975615b307cd"
      },
      "source": [
        "try:\r\n",
        "    f = open('testfile','w')\r\n",
        "    f.write('Test write this')\r\n",
        "except:\r\n",
        "    # This will check for any exception and then execute this print statement\r\n",
        "   print(\"Error: Could not find file or read data\")\r\n",
        "else:\r\n",
        "   print(\"Content written successfully\")\r\n",
        "   f.close()"
      ],
      "execution_count": 13,
      "outputs": [
        {
          "output_type": "stream",
          "text": [
            "Content written successfully\n"
          ],
          "name": "stdout"
        }
      ]
    },
    {
      "cell_type": "code",
      "metadata": {
        "colab": {
          "base_uri": "https://localhost:8080/"
        },
        "id": "j8ur3dsYVHD-",
        "outputId": "41761843-3916-4af6-b1d4-8a7846481d6a"
      },
      "source": [
        "try:\r\n",
        "   f = open(\"testfile\", \"w\")\r\n",
        "   f.write(\"Test write statement\")\r\n",
        "finally:\r\n",
        "   print(\"Always execute finally code blocks\")"
      ],
      "execution_count": 14,
      "outputs": [
        {
          "output_type": "stream",
          "text": [
            "Always execute finally code blocks\n"
          ],
          "name": "stdout"
        }
      ]
    },
    {
      "cell_type": "code",
      "metadata": {
        "id": "_3RoSYDvVHVX"
      },
      "source": [
        "def askint():\r\n",
        "        try:\r\n",
        "            val = int(input(\"Please enter an integer: \"))\r\n",
        "        except:\r\n",
        "            print(\"Looks like you did not enter an integer!\")\r\n",
        "            \r\n",
        "        finally:\r\n",
        "            print(\"Finally, I executed!\")\r\n",
        "        print(val)       "
      ],
      "execution_count": 15,
      "outputs": []
    },
    {
      "cell_type": "code",
      "metadata": {
        "colab": {
          "base_uri": "https://localhost:8080/",
          "height": 282
        },
        "id": "04wytvCOVPrW",
        "outputId": "6e72f12d-bb87-4c28-dcdc-fd7a4a459a37"
      },
      "source": [
        "askint()"
      ],
      "execution_count": 16,
      "outputs": [
        {
          "output_type": "stream",
          "text": [
            "Looks like you did not enter an integer!\n",
            "Finally, I executed!\n"
          ],
          "name": "stdout"
        },
        {
          "output_type": "error",
          "ename": "UnboundLocalError",
          "evalue": "ignored",
          "traceback": [
            "\u001b[0;31m---------------------------------------------------------------------------\u001b[0m",
            "\u001b[0;31mUnboundLocalError\u001b[0m                         Traceback (most recent call last)",
            "\u001b[0;32m<ipython-input-16-cc291aa76c10>\u001b[0m in \u001b[0;36m<module>\u001b[0;34m()\u001b[0m\n\u001b[0;32m----> 1\u001b[0;31m \u001b[0maskint\u001b[0m\u001b[0;34m(\u001b[0m\u001b[0;34m)\u001b[0m\u001b[0;34m\u001b[0m\u001b[0;34m\u001b[0m\u001b[0m\n\u001b[0m",
            "\u001b[0;32m<ipython-input-15-1b367de9a831>\u001b[0m in \u001b[0;36maskint\u001b[0;34m()\u001b[0m\n\u001b[1;32m      7\u001b[0m         \u001b[0;32mfinally\u001b[0m\u001b[0;34m:\u001b[0m\u001b[0;34m\u001b[0m\u001b[0;34m\u001b[0m\u001b[0m\n\u001b[1;32m      8\u001b[0m             \u001b[0mprint\u001b[0m\u001b[0;34m(\u001b[0m\u001b[0;34m\"Finally, I executed!\"\u001b[0m\u001b[0;34m)\u001b[0m\u001b[0;34m\u001b[0m\u001b[0;34m\u001b[0m\u001b[0m\n\u001b[0;32m----> 9\u001b[0;31m         \u001b[0mprint\u001b[0m\u001b[0;34m(\u001b[0m\u001b[0mval\u001b[0m\u001b[0;34m)\u001b[0m\u001b[0;34m\u001b[0m\u001b[0;34m\u001b[0m\u001b[0m\n\u001b[0m",
            "\u001b[0;31mUnboundLocalError\u001b[0m: local variable 'val' referenced before assignment"
          ]
        }
      ]
    },
    {
      "cell_type": "code",
      "metadata": {
        "id": "trwW-PQJVQLH"
      },
      "source": [
        "def askint():\r\n",
        "        try:\r\n",
        "            val = int(input(\"Please enter an integer: \"))\r\n",
        "        except:\r\n",
        "            print(\"Looks like you did not enter an integer!\")\r\n",
        "            val = int(input(\"Try again-Please enter an integer: \"))\r\n",
        "        finally:\r\n",
        "            print(\"Finally, I executed!\")\r\n",
        "        print(val) "
      ],
      "execution_count": 22,
      "outputs": []
    },
    {
      "cell_type": "code",
      "metadata": {
        "colab": {
          "base_uri": "https://localhost:8080/"
        },
        "id": "SAYuSMjeVcIP",
        "outputId": "fab548e2-4179-45ea-f021-d624e0bb2c4d"
      },
      "source": [
        "askint()"
      ],
      "execution_count": 20,
      "outputs": [
        {
          "output_type": "stream",
          "text": [
            "Please enter an integer: 12\n",
            "Finally, I executed!\n",
            "12\n"
          ],
          "name": "stdout"
        }
      ]
    },
    {
      "cell_type": "code",
      "metadata": {
        "id": "EGkwE4-8VgVm"
      },
      "source": [
        "def askint():\r\n",
        "    while True:\r\n",
        "        try:\r\n",
        "            val = int(input(\"Please enter an integer: \"))\r\n",
        "        except:\r\n",
        "            print(\"Looks like you did not enter an integer!\")\r\n",
        "            continue\r\n",
        "        else:\r\n",
        "            print('Yep thats an integer!')\r\n",
        "            break\r\n",
        "        finally:\r\n",
        "            print(\"Finally, I executed!\")\r\n",
        "        print(val) "
      ],
      "execution_count": 25,
      "outputs": []
    },
    {
      "cell_type": "code",
      "metadata": {
        "colab": {
          "base_uri": "https://localhost:8080/"
        },
        "id": "w3leA5sKVcbi",
        "outputId": "ed6d0cac-43ce-4438-c7fd-bcae7eb6ea18"
      },
      "source": [
        "askint()"
      ],
      "execution_count": 26,
      "outputs": [
        {
          "output_type": "stream",
          "text": [
            "Please enter an integer: 11\n",
            "Yep thats an integer!\n",
            "Finally, I executed!\n"
          ],
          "name": "stdout"
        }
      ]
    },
    {
      "cell_type": "code",
      "metadata": {
        "colab": {
          "base_uri": "https://localhost:8080/"
        },
        "id": "OexU0Ru7VnPA",
        "outputId": "a8ce92f2-8f4a-4111-9bae-f25975416e2f"
      },
      "source": [
        "import sqlite3\r\n",
        "#connecting with the database.\r\n",
        "\r\n",
        "db = sqlite3.connect(\"my_database1.db\")\r\n",
        "\r\n",
        "# Drop table if it already exist using execute() method.\r\n",
        "db.execute(\"drop table if exists grades1\")\r\n",
        "\r\n",
        "# Create table as per requirement\r\n",
        "db.execute(\"create table grades1(id int, name text, score int)\")\r\n",
        "\r\n",
        "#inserting values inside the created table\r\n",
        "db.execute(\"insert into grades1(id, name, score) values(101, 'John',99 )\")\r\n",
        "db.execute(\"insert into grades1(id, name, score) values(102, 'Gary',90 )\")\r\n",
        "db.execute(\"insert into grades1(id, name, score) values(103, 'James', 80 )\")\r\n",
        "db.execute(\"insert into grades1(id, name, score) values(104, 'Cathy', 85 )\")\r\n",
        "db.execute(\"insert into grades1(id, name, score) values(105, 'Kris',95 )\")\r\n"
      ],
      "execution_count": 27,
      "outputs": [
        {
          "output_type": "execute_result",
          "data": {
            "text/plain": [
              "<sqlite3.Cursor at 0x7f548b3940a0>"
            ]
          },
          "metadata": {
            "tags": []
          },
          "execution_count": 27
        }
      ]
    },
    {
      "cell_type": "code",
      "metadata": {
        "id": "5nCOIJrMVryy"
      },
      "source": [
        "db.commit()\r\n"
      ],
      "execution_count": 29,
      "outputs": []
    },
    {
      "cell_type": "code",
      "metadata": {
        "colab": {
          "base_uri": "https://localhost:8080/"
        },
        "id": "ZJzRaBaBVsGi",
        "outputId": "f98d789a-7aa1-479c-807f-0f1ba2505229"
      },
      "source": [
        "results = db.execute(\"select * from grades1 order by id\")\r\n",
        "for row in results:\r\n",
        "    print(row)\r\n",
        "print(\"-\" * 60 )\r\n"
      ],
      "execution_count": 30,
      "outputs": [
        {
          "output_type": "stream",
          "text": [
            "(101, 'John', 99)\n",
            "(102, 'Gary', 90)\n",
            "(103, 'James', 80)\n",
            "(104, 'Cathy', 85)\n",
            "(105, 'Kris', 95)\n",
            "------------------------------------------------------------\n"
          ],
          "name": "stdout"
        }
      ]
    },
    {
      "cell_type": "code",
      "metadata": {
        "colab": {
          "base_uri": "https://localhost:8080/",
          "height": 214
        },
        "id": "5mZrHtG0V2IK",
        "outputId": "73577d01-db05-4247-fd03-0ce422eb04c6"
      },
      "source": [
        "results = db.execute(\"select * from grades1 where name = 'Gary' \")\r\n",
        "for row in results:\r\n",
        "    print(row)\r\n",
        "print(\"-\" * 60 )"
      ],
      "execution_count": 18,
      "outputs": [
        {
          "output_type": "error",
          "ename": "NameError",
          "evalue": "ignored",
          "traceback": [
            "\u001b[0;31m---------------------------------------------------------------------------\u001b[0m",
            "\u001b[0;31mNameError\u001b[0m                                 Traceback (most recent call last)",
            "\u001b[0;32m<ipython-input-18-f3db51d8cef5>\u001b[0m in \u001b[0;36m<module>\u001b[0;34m()\u001b[0m\n\u001b[0;32m----> 1\u001b[0;31m \u001b[0mresults\u001b[0m \u001b[0;34m=\u001b[0m \u001b[0mdb\u001b[0m\u001b[0;34m.\u001b[0m\u001b[0mexecute\u001b[0m\u001b[0;34m(\u001b[0m\u001b[0;34m\"select * from grades1 where name = 'Gary' \"\u001b[0m\u001b[0;34m)\u001b[0m\u001b[0;34m\u001b[0m\u001b[0;34m\u001b[0m\u001b[0m\n\u001b[0m\u001b[1;32m      2\u001b[0m \u001b[0;32mfor\u001b[0m \u001b[0mrow\u001b[0m \u001b[0;32min\u001b[0m \u001b[0mresults\u001b[0m\u001b[0;34m:\u001b[0m\u001b[0;34m\u001b[0m\u001b[0;34m\u001b[0m\u001b[0m\n\u001b[1;32m      3\u001b[0m     \u001b[0mprint\u001b[0m\u001b[0;34m(\u001b[0m\u001b[0mrow\u001b[0m\u001b[0;34m)\u001b[0m\u001b[0;34m\u001b[0m\u001b[0;34m\u001b[0m\u001b[0m\n\u001b[1;32m      4\u001b[0m \u001b[0mprint\u001b[0m\u001b[0;34m(\u001b[0m\u001b[0;34m\"-\"\u001b[0m \u001b[0;34m*\u001b[0m \u001b[0;36m60\u001b[0m \u001b[0;34m)\u001b[0m\u001b[0;34m\u001b[0m\u001b[0;34m\u001b[0m\u001b[0m\n",
            "\u001b[0;31mNameError\u001b[0m: name 'db' is not defined"
          ]
        }
      ]
    },
    {
      "cell_type": "code",
      "metadata": {
        "colab": {
          "base_uri": "https://localhost:8080/"
        },
        "id": "HYevseMvV6yj",
        "outputId": "7d8936b5-a5f0-459a-bf1a-46a36327acd6"
      },
      "source": [
        "results = db.execute(\"select * from grades1 where score >= 90 \")\r\n",
        "for row in results:\r\n",
        "    print(row)\r\n",
        "print(\"-\" * 60 )"
      ],
      "execution_count": 31,
      "outputs": [
        {
          "output_type": "stream",
          "text": [
            "(101, 'John', 99)\n",
            "(102, 'Gary', 90)\n",
            "(105, 'Kris', 95)\n",
            "------------------------------------------------------------\n"
          ],
          "name": "stdout"
        }
      ]
    },
    {
      "cell_type": "code",
      "metadata": {
        "colab": {
          "base_uri": "https://localhost:8080/"
        },
        "id": "vPbk4yr7V_b8",
        "outputId": "1a3febf3-e636-43ec-eebe-c3710c265ab9"
      },
      "source": [
        "results = db.execute(\"select name, score from grades1 order by score desc \")\r\n",
        "for row in results:\r\n",
        "    print(row)\r\n",
        "print(\"-\" * 60 )"
      ],
      "execution_count": 32,
      "outputs": [
        {
          "output_type": "stream",
          "text": [
            "('John', 99)\n",
            "('Kris', 95)\n",
            "('Gary', 90)\n",
            "('Cathy', 85)\n",
            "('James', 80)\n",
            "------------------------------------------------------------\n"
          ],
          "name": "stdout"
        }
      ]
    },
    {
      "cell_type": "code",
      "metadata": {
        "colab": {
          "base_uri": "https://localhost:8080/"
        },
        "id": "yJttFzWwWDbp",
        "outputId": "c0e893ff-ff71-494c-88fb-d487ed3a4d19"
      },
      "source": [
        "results = db.execute(\"select name, score from grades1 order by score\")\r\n",
        "for row in results:\r\n",
        "    print(row)\r\n",
        "print(\"-\" * 60 )"
      ],
      "execution_count": 33,
      "outputs": [
        {
          "output_type": "stream",
          "text": [
            "('James', 80)\n",
            "('Cathy', 85)\n",
            "('Gary', 90)\n",
            "('Kris', 95)\n",
            "('John', 99)\n",
            "------------------------------------------------------------\n"
          ],
          "name": "stdout"
        }
      ]
    },
    {
      "cell_type": "code",
      "metadata": {
        "colab": {
          "base_uri": "https://localhost:8080/"
        },
        "id": "vxEixYKCWJVb",
        "outputId": "4cd5e8bb-6f25-40f4-ba76-4aba4c9b9d38"
      },
      "source": [
        "results = db.execute(\"select name, score from grades1 order by score\")\r\n",
        "for row in results:\r\n",
        "    print(row)"
      ],
      "execution_count": 34,
      "outputs": [
        {
          "output_type": "stream",
          "text": [
            "('James', 80)\n",
            "('Cathy', 85)\n",
            "('Gary', 90)\n",
            "('Kris', 95)\n",
            "('John', 99)\n"
          ],
          "name": "stdout"
        }
      ]
    }
  ]
}